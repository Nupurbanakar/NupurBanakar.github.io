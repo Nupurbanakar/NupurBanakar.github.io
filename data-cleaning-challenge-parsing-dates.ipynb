{
 "cells": [
  {
   "cell_type": "markdown",
   "id": "64048a56",
   "metadata": {
    "execution": {
     "iopub.execute_input": "2022-11-14T02:07:28.169590Z",
     "iopub.status.busy": "2022-11-14T02:07:28.168445Z",
     "iopub.status.idle": "2022-11-14T02:07:29.178753Z",
     "shell.execute_reply": "2022-11-14T02:07:29.177531Z",
     "shell.execute_reply.started": "2022-11-14T02:07:28.169492Z"
    },
    "papermill": {
     "duration": 0.004155,
     "end_time": "2022-11-14T03:07:36.569038",
     "exception": false,
     "start_time": "2022-11-14T03:07:36.564883",
     "status": "completed"
    },
    "tags": []
   },
   "source": [
    "## Setting the Environment "
   ]
  },
  {
   "cell_type": "code",
   "execution_count": 1,
   "id": "3abfc9eb",
   "metadata": {
    "execution": {
     "iopub.execute_input": "2022-11-14T03:07:36.577449Z",
     "iopub.status.busy": "2022-11-14T03:07:36.577019Z",
     "iopub.status.idle": "2022-11-14T03:07:37.595750Z",
     "shell.execute_reply": "2022-11-14T03:07:37.594374Z"
    },
    "papermill": {
     "duration": 1.02614,
     "end_time": "2022-11-14T03:07:37.598565",
     "exception": false,
     "start_time": "2022-11-14T03:07:36.572425",
     "status": "completed"
    },
    "tags": []
   },
   "outputs": [],
   "source": [
    "# modules we'll use\n",
    "import pandas as pd\n",
    "import numpy as np\n",
    "import seaborn as sns\n",
    "import datetime\n",
    "\n",
    "df = pd.read_csv(\"../input/youtube-dataset/Table data.csv\")"
   ]
  },
  {
   "cell_type": "code",
   "execution_count": 2,
   "id": "dd3ebb97",
   "metadata": {
    "execution": {
     "iopub.execute_input": "2022-11-14T03:07:37.606628Z",
     "iopub.status.busy": "2022-11-14T03:07:37.606214Z",
     "iopub.status.idle": "2022-11-14T03:07:37.632415Z",
     "shell.execute_reply": "2022-11-14T03:07:37.631534Z"
    },
    "papermill": {
     "duration": 0.032464,
     "end_time": "2022-11-14T03:07:37.634374",
     "exception": false,
     "start_time": "2022-11-14T03:07:37.601910",
     "status": "completed"
    },
    "tags": []
   },
   "outputs": [
    {
     "data": {
      "text/html": [
       "<div>\n",
       "<style scoped>\n",
       "    .dataframe tbody tr th:only-of-type {\n",
       "        vertical-align: middle;\n",
       "    }\n",
       "\n",
       "    .dataframe tbody tr th {\n",
       "        vertical-align: top;\n",
       "    }\n",
       "\n",
       "    .dataframe thead th {\n",
       "        text-align: right;\n",
       "    }\n",
       "</style>\n",
       "<table border=\"1\" class=\"dataframe\">\n",
       "  <thead>\n",
       "    <tr style=\"text-align: right;\">\n",
       "      <th></th>\n",
       "      <th>Content</th>\n",
       "      <th>Video title</th>\n",
       "      <th>Video publish time</th>\n",
       "      <th>Views</th>\n",
       "      <th>Watch time (hours)</th>\n",
       "      <th>Subscribers</th>\n",
       "    </tr>\n",
       "  </thead>\n",
       "  <tbody>\n",
       "    <tr>\n",
       "      <th>0</th>\n",
       "      <td>Total</td>\n",
       "      <td>NaN</td>\n",
       "      <td>NaN</td>\n",
       "      <td>191389</td>\n",
       "      <td>566.8788</td>\n",
       "      <td>496</td>\n",
       "    </tr>\n",
       "    <tr>\n",
       "      <th>1</th>\n",
       "      <td>VLP3kKeNYzo</td>\n",
       "      <td>Is he a 🌄 cat or night 🦉? | #catofegypt #short...</td>\n",
       "      <td>Sep 27, 2022</td>\n",
       "      <td>28631</td>\n",
       "      <td>85.4885</td>\n",
       "      <td>62</td>\n",
       "    </tr>\n",
       "    <tr>\n",
       "      <th>2</th>\n",
       "      <td>t6BXkEw6L9I</td>\n",
       "      <td>Cat of Egypt: Carrying Your Love with me | #ca...</td>\n",
       "      <td>Aug 17, 2022</td>\n",
       "      <td>18977</td>\n",
       "      <td>44.9220</td>\n",
       "      <td>38</td>\n",
       "    </tr>\n",
       "    <tr>\n",
       "      <th>3</th>\n",
       "      <td>HYUesufltL8</td>\n",
       "      <td>Cat of Egypt: Hello, mom you forgot to refill ...</td>\n",
       "      <td>Sep 23, 2022</td>\n",
       "      <td>9701</td>\n",
       "      <td>26.7575</td>\n",
       "      <td>29</td>\n",
       "    </tr>\n",
       "    <tr>\n",
       "      <th>4</th>\n",
       "      <td>veIUCvSYkos</td>\n",
       "      <td>Put an Ice cube on your pet to see their React...</td>\n",
       "      <td>Sep 3, 2022</td>\n",
       "      <td>5259</td>\n",
       "      <td>20.9450</td>\n",
       "      <td>8</td>\n",
       "    </tr>\n",
       "    <tr>\n",
       "      <th>...</th>\n",
       "      <td>...</td>\n",
       "      <td>...</td>\n",
       "      <td>...</td>\n",
       "      <td>...</td>\n",
       "      <td>...</td>\n",
       "      <td>...</td>\n",
       "    </tr>\n",
       "    <tr>\n",
       "      <th>134</th>\n",
       "      <td>zpwE9w7zPfo</td>\n",
       "      <td>Cat of Egypt: Cat playing Hide &amp; Seek | #catof...</td>\n",
       "      <td>Aug 16, 2022</td>\n",
       "      <td>28</td>\n",
       "      <td>0.0564</td>\n",
       "      <td>0</td>\n",
       "    </tr>\n",
       "    <tr>\n",
       "      <th>135</th>\n",
       "      <td>E8AYFAu45m0</td>\n",
       "      <td>Click Here to squish a CAT 🐈 | #catofegypt #sh...</td>\n",
       "      <td>Oct 30, 2022</td>\n",
       "      <td>19</td>\n",
       "      <td>0.0525</td>\n",
       "      <td>0</td>\n",
       "    </tr>\n",
       "    <tr>\n",
       "      <th>136</th>\n",
       "      <td>DAN_XXQWN0Q</td>\n",
       "      <td>When your Parents allow you to bring a caet🐱 h...</td>\n",
       "      <td>Oct 10, 2022</td>\n",
       "      <td>21</td>\n",
       "      <td>0.0482</td>\n",
       "      <td>0</td>\n",
       "    </tr>\n",
       "    <tr>\n",
       "      <th>137</th>\n",
       "      <td>I_2paW66u2A</td>\n",
       "      <td>cat of egypt is a lil' too hangry | #shorts #c...</td>\n",
       "      <td>Oct 2, 2022</td>\n",
       "      <td>16</td>\n",
       "      <td>0.0302</td>\n",
       "      <td>0</td>\n",
       "    </tr>\n",
       "    <tr>\n",
       "      <th>138</th>\n",
       "      <td>_f6xp4QNWZg</td>\n",
       "      <td>Open the door, Surprise is waiting for you😍♥️ ...</td>\n",
       "      <td>Nov 9, 2022</td>\n",
       "      <td>11</td>\n",
       "      <td>0.0294</td>\n",
       "      <td>0</td>\n",
       "    </tr>\n",
       "  </tbody>\n",
       "</table>\n",
       "<p>139 rows × 6 columns</p>\n",
       "</div>"
      ],
      "text/plain": [
       "         Content                                        Video title  \\\n",
       "0          Total                                                NaN   \n",
       "1    VLP3kKeNYzo  Is he a 🌄 cat or night 🦉? | #catofegypt #short...   \n",
       "2    t6BXkEw6L9I  Cat of Egypt: Carrying Your Love with me | #ca...   \n",
       "3    HYUesufltL8  Cat of Egypt: Hello, mom you forgot to refill ...   \n",
       "4    veIUCvSYkos  Put an Ice cube on your pet to see their React...   \n",
       "..           ...                                                ...   \n",
       "134  zpwE9w7zPfo  Cat of Egypt: Cat playing Hide & Seek | #catof...   \n",
       "135  E8AYFAu45m0  Click Here to squish a CAT 🐈 | #catofegypt #sh...   \n",
       "136  DAN_XXQWN0Q  When your Parents allow you to bring a caet🐱 h...   \n",
       "137  I_2paW66u2A  cat of egypt is a lil' too hangry | #shorts #c...   \n",
       "138  _f6xp4QNWZg  Open the door, Surprise is waiting for you😍♥️ ...   \n",
       "\n",
       "    Video publish time   Views  Watch time (hours)  Subscribers  \n",
       "0                  NaN  191389            566.8788          496  \n",
       "1         Sep 27, 2022   28631             85.4885           62  \n",
       "2         Aug 17, 2022   18977             44.9220           38  \n",
       "3         Sep 23, 2022    9701             26.7575           29  \n",
       "4          Sep 3, 2022    5259             20.9450            8  \n",
       "..                 ...     ...                 ...          ...  \n",
       "134       Aug 16, 2022      28              0.0564            0  \n",
       "135       Oct 30, 2022      19              0.0525            0  \n",
       "136       Oct 10, 2022      21              0.0482            0  \n",
       "137        Oct 2, 2022      16              0.0302            0  \n",
       "138        Nov 9, 2022      11              0.0294            0  \n",
       "\n",
       "[139 rows x 6 columns]"
      ]
     },
     "execution_count": 2,
     "metadata": {},
     "output_type": "execute_result"
    }
   ],
   "source": [
    "df"
   ]
  },
  {
   "cell_type": "code",
   "execution_count": 3,
   "id": "1434871f",
   "metadata": {
    "execution": {
     "iopub.execute_input": "2022-11-14T03:07:37.644019Z",
     "iopub.status.busy": "2022-11-14T03:07:37.643450Z",
     "iopub.status.idle": "2022-11-14T03:07:37.652902Z",
     "shell.execute_reply": "2022-11-14T03:07:37.651377Z"
    },
    "papermill": {
     "duration": 0.017392,
     "end_time": "2022-11-14T03:07:37.655337",
     "exception": false,
     "start_time": "2022-11-14T03:07:37.637945",
     "status": "completed"
    },
    "tags": []
   },
   "outputs": [
    {
     "name": "stdout",
     "output_type": "stream",
     "text": [
      "0             NaN\n",
      "1    Sep 27, 2022\n",
      "2    Aug 17, 2022\n",
      "3    Sep 23, 2022\n",
      "4     Sep 3, 2022\n",
      "Name: Video publish time, dtype: object\n"
     ]
    }
   ],
   "source": [
    "# print the first few rows of the date column\n",
    "print(df['Video publish time'].head())"
   ]
  },
  {
   "cell_type": "markdown",
   "id": "e0491af3",
   "metadata": {
    "papermill": {
     "duration": 0.003283,
     "end_time": "2022-11-14T03:07:37.662656",
     "exception": false,
     "start_time": "2022-11-14T03:07:37.659373",
     "status": "completed"
    },
    "tags": []
   },
   "source": [
    "## Convert our date columns to datetime"
   ]
  },
  {
   "cell_type": "code",
   "execution_count": 4,
   "id": "246a0a13",
   "metadata": {
    "execution": {
     "iopub.execute_input": "2022-11-14T03:07:37.671408Z",
     "iopub.status.busy": "2022-11-14T03:07:37.671003Z",
     "iopub.status.idle": "2022-11-14T03:07:37.681290Z",
     "shell.execute_reply": "2022-11-14T03:07:37.680216Z"
    },
    "papermill": {
     "duration": 0.016954,
     "end_time": "2022-11-14T03:07:37.683059",
     "exception": false,
     "start_time": "2022-11-14T03:07:37.666105",
     "status": "completed"
    },
    "tags": []
   },
   "outputs": [],
   "source": [
    "# create a new column, date_parsed, with the parsed dates\n",
    "\n",
    "df['date_parsed'] = pd.to_datetime(df['Video publish time'], format = \"%b %d, %Y\")"
   ]
  },
  {
   "cell_type": "code",
   "execution_count": 5,
   "id": "048c6b0d",
   "metadata": {
    "execution": {
     "iopub.execute_input": "2022-11-14T03:07:37.691615Z",
     "iopub.status.busy": "2022-11-14T03:07:37.691272Z",
     "iopub.status.idle": "2022-11-14T03:07:37.699570Z",
     "shell.execute_reply": "2022-11-14T03:07:37.698469Z"
    },
    "papermill": {
     "duration": 0.014923,
     "end_time": "2022-11-14T03:07:37.701542",
     "exception": false,
     "start_time": "2022-11-14T03:07:37.686619",
     "status": "completed"
    },
    "tags": []
   },
   "outputs": [
    {
     "data": {
      "text/plain": [
       "0            NaT\n",
       "1     2022-09-27\n",
       "2     2022-08-17\n",
       "3     2022-09-23\n",
       "4     2022-09-03\n",
       "         ...    \n",
       "134   2022-08-16\n",
       "135   2022-10-30\n",
       "136   2022-10-10\n",
       "137   2022-10-02\n",
       "138   2022-11-09\n",
       "Name: date_parsed, Length: 139, dtype: datetime64[ns]"
      ]
     },
     "execution_count": 5,
     "metadata": {},
     "output_type": "execute_result"
    }
   ],
   "source": [
    "df['date_parsed']"
   ]
  },
  {
   "cell_type": "markdown",
   "id": "6e57a708",
   "metadata": {
    "papermill": {
     "duration": 0.003339,
     "end_time": "2022-11-14T03:07:37.708653",
     "exception": false,
     "start_time": "2022-11-14T03:07:37.705314",
     "status": "completed"
    },
    "tags": []
   },
   "source": [
    "## Select just the day of the month from our column\n"
   ]
  },
  {
   "cell_type": "code",
   "execution_count": 6,
   "id": "5b0a12a9",
   "metadata": {
    "execution": {
     "iopub.execute_input": "2022-11-14T03:07:37.717524Z",
     "iopub.status.busy": "2022-11-14T03:07:37.717181Z",
     "iopub.status.idle": "2022-11-14T03:07:37.725473Z",
     "shell.execute_reply": "2022-11-14T03:07:37.724582Z"
    },
    "papermill": {
     "duration": 0.015478,
     "end_time": "2022-11-14T03:07:37.727846",
     "exception": false,
     "start_time": "2022-11-14T03:07:37.712368",
     "status": "completed"
    },
    "tags": []
   },
   "outputs": [
    {
     "data": {
      "text/plain": [
       "0       NaN\n",
       "1      27.0\n",
       "2      17.0\n",
       "3      23.0\n",
       "4       3.0\n",
       "       ... \n",
       "134    16.0\n",
       "135    30.0\n",
       "136    10.0\n",
       "137     2.0\n",
       "138     9.0\n",
       "Name: date_parsed, Length: 139, dtype: float64"
      ]
     },
     "execution_count": 6,
     "metadata": {},
     "output_type": "execute_result"
    }
   ],
   "source": [
    "# get the day of the month from the date_parsed column\n",
    "day_of_month= df['date_parsed'].dt.day\n",
    "day_of_month"
   ]
  },
  {
   "cell_type": "markdown",
   "id": "101f39aa",
   "metadata": {
    "papermill": {
     "duration": 0.00342,
     "end_time": "2022-11-14T03:07:37.735283",
     "exception": false,
     "start_time": "2022-11-14T03:07:37.731863",
     "status": "completed"
    },
    "tags": []
   },
   "source": [
    "## Plot the day of the month to check the date parsing"
   ]
  },
  {
   "cell_type": "code",
   "execution_count": 7,
   "id": "b6802462",
   "metadata": {
    "execution": {
     "iopub.execute_input": "2022-11-14T03:07:37.744283Z",
     "iopub.status.busy": "2022-11-14T03:07:37.743921Z",
     "iopub.status.idle": "2022-11-14T03:07:37.981566Z",
     "shell.execute_reply": "2022-11-14T03:07:37.980655Z"
    },
    "papermill": {
     "duration": 0.244648,
     "end_time": "2022-11-14T03:07:37.983549",
     "exception": false,
     "start_time": "2022-11-14T03:07:37.738901",
     "status": "completed"
    },
    "tags": []
   },
   "outputs": [
    {
     "name": "stderr",
     "output_type": "stream",
     "text": [
      "/opt/conda/lib/python3.7/site-packages/seaborn/distributions.py:2619: FutureWarning: `distplot` is a deprecated function and will be removed in a future version. Please adapt your code to use either `displot` (a figure-level function with similar flexibility) or `histplot` (an axes-level function for histograms).\n",
      "  warnings.warn(msg, FutureWarning)\n"
     ]
    },
    {
     "data": {
      "text/plain": [
       "<AxesSubplot:xlabel='date_parsed'>"
      ]
     },
     "execution_count": 7,
     "metadata": {},
     "output_type": "execute_result"
    },
    {
     "data": {
      "image/png": "[encoded data removed]",
      "text/plain": [
       "<Figure size 432x288 with 1 Axes>"
      ]
     },
     "metadata": {
      "needs_background": "light"
     },
     "output_type": "display_data"
    }
   ],
   "source": [
    "# remove na's\n",
    "day_of_month= day_of_month.dropna()\n",
    "\n",
    "# plot the day of the month\n",
    "sns.distplot(day_of_month, kde=False, bins=31)"
   ]
  },
  {
   "cell_type": "code",
   "execution_count": 8,
   "id": "64fe1278",
   "metadata": {
    "execution": {
     "iopub.execute_input": "2022-11-14T03:07:37.993597Z",
     "iopub.status.busy": "2022-11-14T03:07:37.992723Z",
     "iopub.status.idle": "2022-11-14T03:07:38.009874Z",
     "shell.execute_reply": "2022-11-14T03:07:38.008931Z"
    },
    "papermill": {
     "duration": 0.024512,
     "end_time": "2022-11-14T03:07:38.012214",
     "exception": false,
     "start_time": "2022-11-14T03:07:37.987702",
     "status": "completed"
    },
    "tags": []
   },
   "outputs": [
    {
     "data": {
      "text/html": [
       "<div>\n",
       "<style scoped>\n",
       "    .dataframe tbody tr th:only-of-type {\n",
       "        vertical-align: middle;\n",
       "    }\n",
       "\n",
       "    .dataframe tbody tr th {\n",
       "        vertical-align: top;\n",
       "    }\n",
       "\n",
       "    .dataframe thead th {\n",
       "        text-align: right;\n",
       "    }\n",
       "</style>\n",
       "<table border=\"1\" class=\"dataframe\">\n",
       "  <thead>\n",
       "    <tr style=\"text-align: right;\">\n",
       "      <th></th>\n",
       "      <th>Content</th>\n",
       "      <th>Video title</th>\n",
       "      <th>Video publish time</th>\n",
       "      <th>Views</th>\n",
       "      <th>Watch time (hours)</th>\n",
       "      <th>Subscribers</th>\n",
       "      <th>date_parsed</th>\n",
       "    </tr>\n",
       "  </thead>\n",
       "  <tbody>\n",
       "    <tr>\n",
       "      <th>0</th>\n",
       "      <td>Total</td>\n",
       "      <td>NaN</td>\n",
       "      <td>NaN</td>\n",
       "      <td>191389</td>\n",
       "      <td>566.8788</td>\n",
       "      <td>496</td>\n",
       "      <td>NaT</td>\n",
       "    </tr>\n",
       "    <tr>\n",
       "      <th>1</th>\n",
       "      <td>VLP3kKeNYzo</td>\n",
       "      <td>Is he a 🌄 cat or night 🦉? | #catofegypt #short...</td>\n",
       "      <td>Sep 27, 2022</td>\n",
       "      <td>28631</td>\n",
       "      <td>85.4885</td>\n",
       "      <td>62</td>\n",
       "      <td>2022-09-27</td>\n",
       "    </tr>\n",
       "    <tr>\n",
       "      <th>2</th>\n",
       "      <td>t6BXkEw6L9I</td>\n",
       "      <td>Cat of Egypt: Carrying Your Love with me | #ca...</td>\n",
       "      <td>Aug 17, 2022</td>\n",
       "      <td>18977</td>\n",
       "      <td>44.9220</td>\n",
       "      <td>38</td>\n",
       "      <td>2022-08-17</td>\n",
       "    </tr>\n",
       "    <tr>\n",
       "      <th>3</th>\n",
       "      <td>HYUesufltL8</td>\n",
       "      <td>Cat of Egypt: Hello, mom you forgot to refill ...</td>\n",
       "      <td>Sep 23, 2022</td>\n",
       "      <td>9701</td>\n",
       "      <td>26.7575</td>\n",
       "      <td>29</td>\n",
       "      <td>2022-09-23</td>\n",
       "    </tr>\n",
       "    <tr>\n",
       "      <th>4</th>\n",
       "      <td>veIUCvSYkos</td>\n",
       "      <td>Put an Ice cube on your pet to see their React...</td>\n",
       "      <td>Sep 3, 2022</td>\n",
       "      <td>5259</td>\n",
       "      <td>20.9450</td>\n",
       "      <td>8</td>\n",
       "      <td>2022-09-03</td>\n",
       "    </tr>\n",
       "    <tr>\n",
       "      <th>...</th>\n",
       "      <td>...</td>\n",
       "      <td>...</td>\n",
       "      <td>...</td>\n",
       "      <td>...</td>\n",
       "      <td>...</td>\n",
       "      <td>...</td>\n",
       "      <td>...</td>\n",
       "    </tr>\n",
       "    <tr>\n",
       "      <th>134</th>\n",
       "      <td>zpwE9w7zPfo</td>\n",
       "      <td>Cat of Egypt: Cat playing Hide &amp; Seek | #catof...</td>\n",
       "      <td>Aug 16, 2022</td>\n",
       "      <td>28</td>\n",
       "      <td>0.0564</td>\n",
       "      <td>0</td>\n",
       "      <td>2022-08-16</td>\n",
       "    </tr>\n",
       "    <tr>\n",
       "      <th>135</th>\n",
       "      <td>E8AYFAu45m0</td>\n",
       "      <td>Click Here to squish a CAT 🐈 | #catofegypt #sh...</td>\n",
       "      <td>Oct 30, 2022</td>\n",
       "      <td>19</td>\n",
       "      <td>0.0525</td>\n",
       "      <td>0</td>\n",
       "      <td>2022-10-30</td>\n",
       "    </tr>\n",
       "    <tr>\n",
       "      <th>136</th>\n",
       "      <td>DAN_XXQWN0Q</td>\n",
       "      <td>When your Parents allow you to bring a caet🐱 h...</td>\n",
       "      <td>Oct 10, 2022</td>\n",
       "      <td>21</td>\n",
       "      <td>0.0482</td>\n",
       "      <td>0</td>\n",
       "      <td>2022-10-10</td>\n",
       "    </tr>\n",
       "    <tr>\n",
       "      <th>137</th>\n",
       "      <td>I_2paW66u2A</td>\n",
       "      <td>cat of egypt is a lil' too hangry | #shorts #c...</td>\n",
       "      <td>Oct 2, 2022</td>\n",
       "      <td>16</td>\n",
       "      <td>0.0302</td>\n",
       "      <td>0</td>\n",
       "      <td>2022-10-02</td>\n",
       "    </tr>\n",
       "    <tr>\n",
       "      <th>138</th>\n",
       "      <td>_f6xp4QNWZg</td>\n",
       "      <td>Open the door, Surprise is waiting for you😍♥️ ...</td>\n",
       "      <td>Nov 9, 2022</td>\n",
       "      <td>11</td>\n",
       "      <td>0.0294</td>\n",
       "      <td>0</td>\n",
       "      <td>2022-11-09</td>\n",
       "    </tr>\n",
       "  </tbody>\n",
       "</table>\n",
       "<p>139 rows × 7 columns</p>\n",
       "</div>"
      ],
      "text/plain": [
       "         Content                                        Video title  \\\n",
       "0          Total                                                NaN   \n",
       "1    VLP3kKeNYzo  Is he a 🌄 cat or night 🦉? | #catofegypt #short...   \n",
       "2    t6BXkEw6L9I  Cat of Egypt: Carrying Your Love with me | #ca...   \n",
       "3    HYUesufltL8  Cat of Egypt: Hello, mom you forgot to refill ...   \n",
       "4    veIUCvSYkos  Put an Ice cube on your pet to see their React...   \n",
       "..           ...                                                ...   \n",
       "134  zpwE9w7zPfo  Cat of Egypt: Cat playing Hide & Seek | #catof...   \n",
       "135  E8AYFAu45m0  Click Here to squish a CAT 🐈 | #catofegypt #sh...   \n",
       "136  DAN_XXQWN0Q  When your Parents allow you to bring a caet🐱 h...   \n",
       "137  I_2paW66u2A  cat of egypt is a lil' too hangry | #shorts #c...   \n",
       "138  _f6xp4QNWZg  Open the door, Surprise is waiting for you😍♥️ ...   \n",
       "\n",
       "    Video publish time   Views  Watch time (hours)  Subscribers date_parsed  \n",
       "0                  NaN  191389            566.8788          496         NaT  \n",
       "1         Sep 27, 2022   28631             85.4885           62  2022-09-27  \n",
       "2         Aug 17, 2022   18977             44.9220           38  2022-08-17  \n",
       "3         Sep 23, 2022    9701             26.7575           29  2022-09-23  \n",
       "4          Sep 3, 2022    5259             20.9450            8  2022-09-03  \n",
       "..                 ...     ...                 ...          ...         ...  \n",
       "134       Aug 16, 2022      28              0.0564            0  2022-08-16  \n",
       "135       Oct 30, 2022      19              0.0525            0  2022-10-30  \n",
       "136       Oct 10, 2022      21              0.0482            0  2022-10-10  \n",
       "137        Oct 2, 2022      16              0.0302            0  2022-10-02  \n",
       "138        Nov 9, 2022      11              0.0294            0  2022-11-09  \n",
       "\n",
       "[139 rows x 7 columns]"
      ]
     },
     "execution_count": 8,
     "metadata": {},
     "output_type": "execute_result"
    }
   ],
   "source": [
    "df"
   ]
  },
  {
   "cell_type": "code",
   "execution_count": null,
   "id": "c1d7460b",
   "metadata": {
    "papermill": {
     "duration": 0.004086,
     "end_time": "2022-11-14T03:07:38.020708",
     "exception": false,
     "start_time": "2022-11-14T03:07:38.016622",
     "status": "completed"
    },
    "tags": []
   },
   "outputs": [],
   "source": []
  }
 ],
 "metadata": {
  "kernelspec": {
   "display_name": "Python 3",
   "language": "python",
   "name": "python3"
  },
  "language_info": {
   "codemirror_mode": {
    "name": "ipython",
    "version": 3
   },
   "file_extension": ".py",
   "mimetype": "text/x-python",
   "name": "python",
   "nbconvert_exporter": "python",
   "pygments_lexer": "ipython3",
   "version": "3.7.12"
  },
  "papermill": {
   "default_parameters": {},
   "duration": 9.712865,
   "end_time": "2022-11-14T03:07:38.746397",
   "environment_variables": {},
   "exception": null,
   "input_path": "__notebook__.ipynb",
   "output_path": "__notebook__.ipynb",
   "parameters": {},
   "start_time": "2022-11-14T03:07:29.033532",
   "version": "2.3.4"
  }
 },
 "nbformat": 4,
 "nbformat_minor": 5
}
